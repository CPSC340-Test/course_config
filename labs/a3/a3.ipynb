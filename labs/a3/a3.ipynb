{
 "cells": [
  {
   "cell_type": "markdown",
   "metadata": {},
   "source": [
    "# DSCI 571 Lab Assignment 1\n",
    "\n",
    "__Due__: December 3, 2017 at 15:00\n",
    "\n",
    "## Instructions\n",
    "rubric={mechanics:3, writing:3}\n",
    "\n",
    "Follow the [general lab instructions](https://ubc-mds.github.io/resources_pages/general_lab_instructions/). \n",
    "\n",
    "In addition, you must use proper spelling and grammar.\n",
    "\n",
    "__Note__: \n",
    "\n",
    "- The non-optional rubric weights add to 100. \n",
    "- The optional rubric weights add to 5.\n",
    "- There are two optional questions worth no marks. "
   ]
  },
  {
   "cell_type": "markdown",
   "metadata": {},
   "source": [
    "## Exercise 1: $k$-NN Fundamentals\n",
    "\n",
    "Here we will try classification of the famous handwritten digits data set. \n",
    "\n",
    "This data set exists in many forms; we will use the one bundled in `sklearn.datasets`. We will also use `sklearn` for classification.\n",
    "\n",
    "Load the data:"
   ]
  },
  {
   "cell_type": "code",
   "execution_count": 1,
   "metadata": {
    "collapsed": true
   },
   "outputs": [],
   "source": [
    "from sklearn import datasets\n",
    "import matplotlib.pyplot as plt\n",
    "import random\n",
    "%matplotlib inline\n",
    "\n",
    "digits = datasets.load_digits()"
   ]
  },
  {
   "cell_type": "markdown",
   "metadata": {},
   "source": [
    "You can check out the documentation for the data by running `print(digits['DESCR'])`. We'll extract the features and labels for you:"
   ]
  },
  {
   "cell_type": "code",
   "execution_count": 2,
   "metadata": {},
   "outputs": [],
   "source": [
    "X = digits['data'] # this is the data with each 8x8 image \"flattened\" into a length-64 vector.\n",
    "Y = digits['target'] # these are the labels (0-9)."
   ]
  },
  {
   "cell_type": "markdown",
   "metadata": {},
   "source": [
    "Here's a plot of a random example:"
   ]
  },
  {
   "cell_type": "code",
   "execution_count": 3,
   "metadata": {},
   "outputs": [
    {
     "data": {
      "text/plain": [
       "<matplotlib.text.Text at 0x117d4b240>"
      ]
     },
     "execution_count": 3,
     "metadata": {},
     "output_type": "execute_result"
    },
    {
     "data": {
      "image/png": "[encoded data removed]",
      "text/plain": [
       "<matplotlib.figure.Figure at 0x117d356a0>"
      ]
     },
     "metadata": {},
     "output_type": "display_data"
    }
   ],
   "source": [
    "idx = random.randint(0, digits['images'].shape[0]-1) \n",
    "plt.imshow(digits['images'][idx], cmap='Greys_r')\n",
    "plt.title('This is a %d' % digits['target'][idx])"
   ]
  },
  {
   "cell_type": "markdown",
   "metadata": {},
   "source": [
    "### 1(a) Fundamentals\n",
    "\n",
    "rubric={reasoning:5}\n",
    "\n",
    "1. How many features are there, and what are they?\n",
    "2. Which is closer to element 0 (`X[0]`) -- element 1 (`X[1]`) or element 2 (`X[2]`)? Report the two distances (Euclidean).\n",
    "3. Using the above information, if only elements 1 and 2 are used in a $k$-NN classifier with $k=1$, what would element 0 be classified as, and why?"
   ]
  },
  {
   "cell_type": "markdown",
   "metadata": {},
   "source": [
    "### 1(b) Investigating error\n",
    "\n",
    "rubric={reasoning:5}\n",
    "\n",
    "You'll be using the scikit-learn implementation of the $k$-NN classifier. Documentation is available at http://scikit-learn.org/stable/modules/generated/sklearn.neighbors.KNeighborsClassifier.html.\n",
    "\n",
    "Using `k=10`, fit a $k$-NN classifier using `X` and `Y`. Obtain predictions from `X`. \n",
    "\n",
    "1. What proportion of these predictions are incorrect? This is called the _error rate_.    \n",
    "2. Choose one case that was not predicted correctly. What was predicted, and what is the correct label? Plot the image, and comment on why you think the classifier made a mistake. \n",
    "\n"
   ]
  },
  {
   "cell_type": "markdown",
   "metadata": {},
   "source": [
    "### 1(c) One Nearest Neighbour error\n",
    "\n",
    "rubric={reasoning:5}\n",
    "\n",
    "Now fit the classifier using `k=1`, and again obtain predictions from `X`. \n",
    "\n",
    "1. What proportion of these predictions are incorrect? Briefly explain why this error rate is achieved (in one or two sentences; think about how the $k$-NN algorithm works).    \n",
    "2. With the above error rate in mind, if I give you a new handwritten digit (not in the data set), will the classifier _for sure_ predict the label correctly? Briefly explain why or why not."
   ]
  },
  {
   "cell_type": "markdown",
   "metadata": {},
   "source": [
    "## Exercise 2: Investigating $k$-NN Error\n",
    "\n",
    "This is a continuation of Exercise 1. Each part asks you to investigate some scenario.\n",
    "\n",
    "### 2(a) The influence of k\n",
    "\n",
    "rubric={code:5, reasoning:5, viz:5}\n",
    "\n",
    "Now, split the data into _training_ and _test_ sets. You can choose any reasonable fraction for training vs. testing (50% will do). \n",
    "\n",
    "__Note__: It's always a good idea to randomly shuffle the data before splitting, in case the data comes ordered in some way. (For example, if they are ordered by label, then your training set will be all the digits 0-4, and your test set all the digits 5-9, which would be bad... you might end up with 100% error!!) To shuffle your data, you can use [`numpy.random.shuffle`](https://docs.scipy.org/doc/numpy/reference/generated/numpy.random.shuffle.html).\n",
    "\n",
    "For various values of $k$, fit (a.k.a. _train_) a classifier using the training data. Use that classifier to obtain an error rate when predicting on both the training and test sets, for each $k$. How do the training error and test error change with $k$? Make a plot to show the trends, and briefly comment on the insights that this plot yields."
   ]
  },
  {
   "cell_type": "markdown",
   "metadata": {},
   "source": [
    "### 2(b) Fundamental Tradeoff\n",
    "rubric={reasoning:5}\n",
    "\n",
    "Recall the two parts of the fundamental trade-off in machine learning:\n",
    "\n",
    "1. How small we can make the training error.\n",
    "2. How well the training error approximates the test error.\n",
    "\n",
    "In a $k$-nearest neighbour classifier, how does the parameter $k$ affect each of the two parts of the trade-off? What is one way that we could choose $k$ in practice?\n",
    "\n"
   ]
  },
  {
   "cell_type": "markdown",
   "metadata": {},
   "source": [
    "### 2(c) The influence of data partition\n",
    "\n",
    "rubric={reasoning:5}\n",
    "\n",
    "Now, choose your favourite value of $k$, but vary the proportion of data reserved for the training set, again obtaining training and test error rates for each partition of the data. Plot training and test error (on the same axes) vs. the proportion of training examples. Briefly comment on the insights that this plot yields."
   ]
  },
  {
   "cell_type": "markdown",
   "metadata": {},
   "source": [
    "### 2(d) Imbalanced training data\n",
    "\n",
    "rubric={reasoning:5, code:5}\n",
    "\n",
    "Now, take a subset of your training data so that you only retain the first 2% of the examples of digits 0-8, but keep 100% of the 9's. This is called an imbalanced training set. \n",
    "\n",
    "What is your training and test error, vs. $k$? How does it compare to your performance with all the data?"
   ]
  },
  {
   "cell_type": "markdown",
   "metadata": {
    "collapsed": true
   },
   "source": [
    "### 2(e) Imbalanced training data -- fair (Optional)\n",
    "\n",
    "rubric={reasoning:1}\n",
    "\n",
    "What we did in (d) above was an unfair comparison, because reducing the amount of training data will generally hurt performance. To compare, randomly remove examples from the original training set such that the number of examples is the same as in part (d) above. Now compare the training and test error to the results from (d). Briefly comment on the results. "
   ]
  },
  {
   "cell_type": "markdown",
   "metadata": {},
   "source": [
    "### 2(f) The influence of added noise (Optional; no marks)\n",
    "\n",
    "__This question is worth no marks.__\n",
    "\n",
    "Now, add noise to the training data: for each example, with probability 20% replace the training label with a label selected uniformly at random. Remake the plot vs. $k$. What do you observe? Is there a generalizable insight here?"
   ]
  },
  {
   "cell_type": "markdown",
   "metadata": {},
   "source": [
    "## Exercise 3: Re-scaling\n",
    "\n",
    "Often, features are measured on different scales. Consider the toy example `data/unequal_scales.csv`, which has two features (`x1` and `x2`) and four labels (`A` through `D`). Feel free to use R for this question (but it's up to you). \n",
    "\n",
    "__Note__: To annotate a `ggplot2` plot with a circle, you can add the function found in [Vincenzo's gist](https://gist.github.com/vincenzocoia/58b26f6778647be1803d0b7348e674ec) as a layer. "
   ]
  },
  {
   "cell_type": "markdown",
   "metadata": {},
   "source": [
    "### 3(a) Leaving the data as-is\n",
    "\n",
    "rubric={viz:5, reasoning:5}\n",
    "\n",
    "1. Make a scatterplot of `x1` and `x2`, and indicate the category using some other aesthetic (like colour and/or shape).\n",
    "2. Draw a circle, centered around the point `(x1,x2)=(1,0)`, containing the $k=10$ nearest points to `(1,0)`. \n",
    "3. What would the point `(1,0)` be categorized as, using these data with $k$-NN, $k=10$? Why? Comment on whether you think it's a good idea to categorize the point `(1,0)` using a circle."
   ]
  },
  {
   "cell_type": "markdown",
   "metadata": {},
   "source": [
    "### 3(b) Re-scaling\n",
    "\n",
    "rubric={code:5, reasoning:5}\n",
    "\n",
    "To prevent this problem from happening, we can re-scale the data so that each feature has unit variance. We can achieve this by _normalizing_ the data -- that is, subtracting by the sample mean, then dividing by the sample standard deviation (you can achieve this using the `scale` function in R).\n",
    "\n",
    "1. Normalize the two features. What does the point `(1,0)` become on this new scale?\n",
    "2. Make another scatterplot of the re-scaled features, with a circle centered around the re-scaled point containing the $k=10$ nearest neighbours. \n",
    "3. What would the re-scaled point be categorized as? Why? Comment on whether you think the re-scaling is appropriate, and why. "
   ]
  },
  {
   "cell_type": "markdown",
   "metadata": {},
   "source": [
    "### 3(c) Comparing errors\n",
    "\n",
    "rubric={viz:3, reasoning:3}\n",
    "\n",
    "Using all the data as training data, plot the training error as a function of $k$. Do this for both the original and scaled data. How do the errors compare?"
   ]
  },
  {
   "cell_type": "markdown",
   "metadata": {
    "collapsed": true
   },
   "source": [
    "## Exercise 4: decision trees with binary features\n",
    "<!-- rubric={reasoning:5,code:4,mechanics:1} -->\n",
    "\n",
    "The file `newsgroups.pkl` is a Pickle file containing the following objects:\n",
    "* `groupnames`: The names of four newsgroups.\n",
    "* `wordlist`: A list of words that occur in posts to these newsgroups.\n",
    "*  `X`: A binary matrix as a scipy sparse matrix ([documentation](http://docs.scipy.org/doc/scipy/reference/generated/scipy.sparse.spmatrix.html#scipy.sparse.spmatrix); [more info](http://www.scipy-lectures.org/advanced/scipy_sparse/index.html)). Each row corresponds to a post, and each column corresponds to a word from the word list. A value of $1$ means that the word occured in the post. Note: if you want to convert a sparse matrix to a regular dense numpy array, do `X.toarray()`.\n",
    "* `y`: A vector with values $0$ through $3$, with the value corresponding to the newsgroup that the post came from (comp.*, rec.*, sci.*, talk.*).\n",
    "* `Xtest` and `ytest`: the word lists and newsgroup labels for additional newsgroup posts.\n",
    "\n",
    "\n",
    "The code below loads the data, fits a decision stump to the training data, and then evaluates the error of the model on the training data. Running the demo shows that decision stumps have a classification error of $0.60$, which is a bit better than just predicting the most common label (which obtains an error of $0.66$). The image below gives an interpretation of the decision stump that is learned:\n",
    "![](data/decisionStump.png)\n",
    "This is an interpretable but not very accurate model. \n",
    "\n",
    "Your tasks follow the code chunk."
   ]
  },
  {
   "cell_type": "code",
   "execution_count": 4,
   "metadata": {},
   "outputs": [
    {
     "name": "stdout",
     "output_type": "stream",
     "text": [
      "Fitting...\n",
      "If \"windows\" is absent,  predict \"talk.*\"\n",
      "If \"windows\" is present, predict \"comp.*\"\n",
      "Predicting...\n",
      "Training error with decision stump = 0.600296\n"
     ]
    }
   ],
   "source": [
    "import numpy as np\n",
    "import pickle\n",
    "\n",
    "# A decision stump that splits on a single variable,\n",
    "# assuming that X is binary {0,1} and is a scipy sparse matrix\n",
    "# and y is categorical {0,1,2,3,...,C-1}\n",
    "class DecisionStump():\n",
    "    \n",
    "    def __init__(self, classnames, inputnames=None):\n",
    "        self.splitVariable = None\n",
    "        self.label1 = None\n",
    "        self.label0 = None\n",
    "        self.is_fit = False\n",
    "        self.classnames = classnames\n",
    "        self.inputnames = inputnames\n",
    "        self.C = len(classnames) # number of classes\n",
    "\n",
    "    def fit(self, X, y):\n",
    "        N,D = X.shape\n",
    "\n",
    "        # Count the occurrences of each label\n",
    "        count = np.zeros(self.C)\n",
    "        for n in range(N):\n",
    "            count[y[n]] += 1\n",
    "        \n",
    "        # Get the error if you didn't split at all \n",
    "        # and just predicted the most popular class\n",
    "        maxLabel = np.argmax(count)\n",
    "        minError = np.sum(y != maxLabel) \n",
    "#         print('Error by just predicting class %d: %f' % (maxLabel, minError/len(y)))\n",
    "        \n",
    "        splitVariable = None\n",
    "        splitLabel0 = maxLabel\n",
    "        splitLabel1 = maxLabel\n",
    "\n",
    "        # Loop over features looking for the best split\n",
    "        for d in range(D):\n",
    "            # Count frequency of each class label when the feature is 1, and when it is 0\n",
    "            # We do things a bit weirdly because X is a sparse matrix\n",
    "            count1 = np.zeros(self.C)\n",
    "            for n in X[:,d].nonzero()[0]:\n",
    "                count1[y[n]] += 1\n",
    "            count0 = count - count1\n",
    "            \n",
    "            # Compute majority class (the class we would predict) in each case \n",
    "            maxLabel0 = np.argmax(count0)\n",
    "            maxLabel1 = np.argmax(count1)\n",
    "\n",
    "            # Construct a vector yhat containing the predictions\n",
    "            yhat = np.zeros(N) + maxLabel0\n",
    "            yhat[X[:,d].nonzero()[0]] = maxLabel1\n",
    "            # Compute number of classification errors\n",
    "            errors = np.sum(yhat != y)\n",
    "\n",
    "            # Compare to minimum error so far\n",
    "            if errors < minError:\n",
    "                # This is the lowest error, store this value\n",
    "                minError = errors\n",
    "                splitVariable = d\n",
    "                splitLabel1 = maxLabel1\n",
    "                splitLabel0 = maxLabel0\n",
    "\n",
    "        self.splitVariable = splitVariable\n",
    "        self.label1 = splitLabel1\n",
    "        self.label0 = splitLabel0\n",
    "        self.is_fit = True\n",
    "        \n",
    "    def predict(self, X):\n",
    "        M,D = X.shape\n",
    "\n",
    "        if self.splitVariable is None:\n",
    "            return self.label0 * np.ones(M)\n",
    "\n",
    "        yhat = np.zeros(M)\n",
    "        for m in range(M):\n",
    "            if X[m,self.splitVariable] == 1:\n",
    "                yhat[m] = self.label1\n",
    "            else:\n",
    "                yhat[m] = self.label0      \n",
    "        return yhat\n",
    "    \n",
    "    def show(self):\n",
    "        assert self.is_fit\n",
    "        if self.inputnames is None:\n",
    "            split_name = \"Variable %d\" % self.splitVariable\n",
    "        else:\n",
    "            split_name = self.inputnames[self.splitVariable]\n",
    "        if self.classnames is None:\n",
    "            class_name0 = \"Class %d\" % self.label0\n",
    "            class_name1 = \"Class %d\" % self.label1\n",
    "        else:\n",
    "            class_name0 = self.classnames[self.label0]\n",
    "            class_name1 = self.classnames[self.label1]\n",
    "\n",
    "        print('If \"%s\" is absent,  predict \"%s\"' % (split_name, class_name0))\n",
    "        print('If \"%s\" is present, predict \"%s\"' % (split_name, class_name1))\n",
    "\n",
    "        \n",
    "with open('data/newsgroups.pkl', 'rb') as f:\n",
    "    data = pickle.load(f)\n",
    "X = data['X']\n",
    "y = data['y']\n",
    "classnames = data['groupnames']\n",
    "wordnames = data['wordlist']\n",
    "model = DecisionStump(classnames=classnames, inputnames=wordnames)\n",
    "print('Fitting...')\n",
    "model.fit(X, y)\n",
    "model.show()\n",
    "print('Predicting...')\n",
    "pred = model.predict(X)\n",
    "training_error = np.sum(pred != y)/len(y)\n",
    "print('Training error with decision stump = %f' % training_error)"
   ]
  },
  {
   "cell_type": "markdown",
   "metadata": {},
   "source": [
    "### 4(a) Implementing a decision tree\n",
    "\n",
    "rubric={reasoning:5}\n",
    "\n",
    "The documentation for the scikit-learn implementation of the decision tree classifier is at http://scikit-learn.org/stable/modules/generated/sklearn.tree.DecisionTreeClassifier.html\n",
    "\n",
    "1. Briefly discuss each of the parameters accepted by this class.\n",
    "2. Using sklearn's decision tree classifier, report the training and test accuracy when using a decision tree of depth $10$.\n",
    "\n",
    "__Note__: Above code is for demonstration, but you don't actually have to use it. "
   ]
  },
  {
   "cell_type": "markdown",
   "metadata": {},
   "source": [
    "### 4(b) Decision Tree Picture (Optional)\n",
    "\n",
    "rubric={reasoning:1}\n",
    "\n",
    "By inspecting the decision tree, draw a picture (similar to the one above) showing the learned decision tree when the maximum depth is $2$."
   ]
  },
  {
   "cell_type": "markdown",
   "metadata": {},
   "source": [
    "### 4(c) Entropy Criterion (Optional)\n",
    "\n",
    "rubric={reasoning:2}\n",
    "\n",
    "Modify your code by creating an option to use information gain (entropy reduction) as a split criterion, rather than minimizing error. Compare the training and testing error in each case, with a tree of depth 10. Briefly discuss your results."
   ]
  },
  {
   "cell_type": "markdown",
   "metadata": {},
   "source": [
    "### 4(d) Continuous Features (Optional; no marks)\n",
    "\n",
    "__This is worth no marks.__\n",
    "\n",
    "Explain how you would modify the `DecisionStump` code to handle continuous features rather than only binary features."
   ]
  },
  {
   "cell_type": "markdown",
   "metadata": {},
   "source": [
    "## Exercise 5: Contemplating decision trees\n",
    "\n",
    "rubric={reasoning:5}\n",
    "\n",
    "Recall the two parts of the fundamental bias-variance trade-off in machine learning:\n",
    "\n",
    "1. How small we can make the training error.\n",
    "2. How well the training error approximates the test error.\n",
    "\n",
    "In a decision tree classifier, how do the different parameters affect each of the two parts of the trade-off, if at all?"
   ]
  },
  {
   "cell_type": "markdown",
   "metadata": {},
   "source": [
    "## Exercise 6: Training error vs. test error, overfitting\n",
    "rubric={reasoning:5,viz:3}\n",
    "\n",
    "Expanding on the above by focusing in on the tree depth parameter, make a plot with the depth of the decision tree on the $x$-axis (varying it from $1$ through $15$) and the error on the training data $\\{X,y\\}$ on the $y$-axis. Then, make the analogous plot with test error instead of training error. Briefly explain your results. \n",
    "\n",
    "You can use sklearn's decision tree classifier for this."
   ]
  },
  {
   "cell_type": "markdown",
   "metadata": {},
   "source": [
    "## Exercise 7: Decision tree regression (Optional) \n",
    "\n",
    "rubric={reasoning:1}\n",
    "\n",
    "Decision trees can also be used for regression; see [here](http://scikit-learn.org/stable/auto_examples/tree/plot_tree_regression.html) and [here](http://scikit-learn.org/stable/modules/generated/sklearn.tree.DecisionTreeRegressor.html). Read up on this a bit and briefly explain how this works. Compare Decision Tree Regression to some of the methods you are learning in DSCI 561."
   ]
  },
  {
   "cell_type": "code",
   "execution_count": null,
   "metadata": {
    "collapsed": true
   },
   "outputs": [],
   "source": []
  }
 ],
 "metadata": {
  "anaconda-cloud": {},
  "kernelspec": {
   "display_name": "Python 3",
   "language": "python",
   "name": "python3"
  },
  "language_info": {
   "codemirror_mode": {
    "name": "ipython",
    "version": 3
   },
   "file_extension": ".py",
   "mimetype": "text/x-python",
   "name": "python",
   "nbconvert_exporter": "python",
   "pygments_lexer": "ipython3",
   "version": "3.6.1"
  }
 },
 "nbformat": 4,
 "nbformat_minor": 1
}
